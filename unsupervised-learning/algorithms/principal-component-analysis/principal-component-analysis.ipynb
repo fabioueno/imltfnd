{
 "cells": [
  {
   "cell_type": "markdown",
   "metadata": {},
   "source": [
    "# Principal component analysis\n",
    "\n",
    "Principal component analysis (PCA) is a technique aimed at reducing dimensionality. It's about taking the full dataset and reducing to only the parts holding most of the information.\n",
    "\n",
    "## Latent feature\n",
    "\n",
    "Latent features are features that aren't directly in our dataset, but encompass groupings of features that are in our dataset. Lot size, number of rooms, floor plan size, size of garage, number of bedrooms, and number of bathrooms may be directly in our dataset, and they are all part of a home size latent feature, for example.\n",
    "\n",
    "One way to deal with the [curse of dimensionality](https://en.wikipedia.org/wiki/Curse_of_dimensionality) is to select just a few features and drop others - this is called feature selection:\n",
    "\n",
    "<br><img src=\"images/feature-selection.png\" width=\"720px\"><br>\n",
    "\n",
    "Another way, is to extract, or construct, new features based on what the original dataset have - this is called feature extraction:\n",
    "\n",
    "<br><img src=\"images/feature-extraction.png\" width=\"720px\"><br>\n",
    "\n"
   ]
  }
 ],
 "metadata": {
  "kernelspec": {
   "display_name": "Python 3",
   "language": "python",
   "name": "python3"
  },
  "language_info": {
   "codemirror_mode": {
    "name": "ipython",
    "version": 3
   },
   "file_extension": ".py",
   "mimetype": "text/x-python",
   "name": "python",
   "nbconvert_exporter": "python",
   "pygments_lexer": "ipython3",
   "version": "3.8.5"
  }
 },
 "nbformat": 4,
 "nbformat_minor": 4
}
