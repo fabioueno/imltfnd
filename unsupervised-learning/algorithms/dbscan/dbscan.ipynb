{
 "cells": [
  {
   "cell_type": "markdown",
   "metadata": {},
   "source": [
    "# DBSCAN\n",
    "\n",
    "DBSCAN stands for Density Based Spatial Clustering of Applications with Noise and groups points that are closely packed together. This algorithm does not cluster every point and DBSCAN label some of them as noise.\n",
    "\n",
    "It starts by arbitrarily selecting a point and looking the neighborhood around it. If there are enough points (`min_samples`) near the subject (`eps`) DBSCAN groups them and move to the next:\n",
    "\n",
    "<br><img src=\"images/dbscan.png\" width=\"720px\"><br>\n",
    "\n",
    "Comparing it to the K-Means algorithm, we can see the former outperforms the latter, and the cases where it misclassified some points are probably due to aggresive parameters:\n",
    "\n",
    "<br><img src=\"images/kmeans-vs-dbscan.png\" width=\"720px\"><br>\n",
    "\n",
    "PS: [This link](https://www.naftaliharris.com/blog/visualizing-dbscan-clustering) contains a nice visualization of the DBSCAN algorithm in work."
   ]
  }
 ],
 "metadata": {
  "kernelspec": {
   "display_name": "Python 3",
   "language": "python",
   "name": "python3"
  },
  "language_info": {
   "codemirror_mode": {
    "name": "ipython",
    "version": 3
   },
   "file_extension": ".py",
   "mimetype": "text/x-python",
   "name": "python",
   "nbconvert_exporter": "python",
   "pygments_lexer": "ipython3",
   "version": "3.8.5"
  }
 },
 "nbformat": 4,
 "nbformat_minor": 4
}
