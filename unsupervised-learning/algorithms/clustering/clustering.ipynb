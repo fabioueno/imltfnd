{
 "cells": [
  {
   "cell_type": "markdown",
   "metadata": {},
   "source": [
    "# Clustering\n",
    "\n",
    "<br><img src=\"images/clustering.png\" width=\"720px\"><br>\n",
    "\n",
    "Clustering can be used in a multitude of data:\n",
    "\n",
    "* Books and articles\n",
    "* Movies\n",
    "* Music\n",
    "* Customers behavior\n",
    "\n",
    "The first algorithm is called K-Means and is useful to create circular-shaped clusters. Unfortunately it does a poor job on other shapes of clusters:\n",
    "\n",
    "<br><img src=\"images/k-means-clustering.png\" width=\"720px\"><br>\n",
    "\n",
    "Others algorithms we'll take a look are Hierarchical Clustering, and Density Clustering (DBSCAN):\n",
    "\n",
    "<br><img src=\"images/hierarchical-density-clustering.png\" width=\"720px\">"
   ]
  }
 ],
 "metadata": {
  "kernelspec": {
   "display_name": "Python 3",
   "language": "python",
   "name": "python3"
  },
  "language_info": {
   "codemirror_mode": {
    "name": "ipython",
    "version": 3
   },
   "file_extension": ".py",
   "mimetype": "text/x-python",
   "name": "python",
   "nbconvert_exporter": "python",
   "pygments_lexer": "ipython3",
   "version": "3.8.5"
  }
 },
 "nbformat": 4,
 "nbformat_minor": 4
}
