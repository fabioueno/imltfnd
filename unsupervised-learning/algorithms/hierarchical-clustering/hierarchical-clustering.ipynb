{
 "cells": [
  {
   "cell_type": "markdown",
   "metadata": {},
   "source": [
    "# Hierarchical Clustering\n",
    "\n",
    "## Single-Link Clustering\n",
    "\n",
    "When using Single-Link Clustering to cluster data, the first step is to assume that every point is already a cluster. Then, we calculate the distance between every pair of points and group the two with smallest distance. We can repeat this pattern until the whole dataset is a single cluster.\n",
    "\n",
    "<br><img src=\"images/single-link-clustering.png\" width=\"720px\"><br>\n",
    "\n",
    "An importante note is that Single-Link Clustering looks only at the smallest distance between a point and a cluster. In the example above, after creating clusters [4, 5], [1, 2], and [6, 8], we looked at the distance between 7 and 6, because that's the closest point in the cluster.\n",
    "\n",
    "One of the parameters we input to Single-Link Clustering is the number of clusters we want, so we can cut links from the tree, starting from the top!\n",
    "\n",
    "<br><img src=\"images/3-clusters-single-link.png\" width=\"720px\"><br>\n",
    "\n",
    "When we compare the results of Single-Link Clustering against K-Mean, we can see it performs poorly on a evenly distributed dataset, but can do a good job on other types of data, such as two crescents, or concentric circles:\n",
    "\n",
    "<br><img src=\"images/kmeans-vs-single-link.png\" width=\"720px\"><br>\n",
    "\n",
    "But another thing that's good to see is the dendogram that's produced:\n",
    "\n",
    "<br><img src=\"images/single-link-linkage-dendogram.png\" width=\"720px\"><br>\n",
    "\n",
    "Sometimes is wrongly clustered some data, but from the dendogram we can see some clear separation. That can be an indicator that linking algorithm can be helpful!\n",
    "\n",
    "## Complete-Link\n",
    "\n",
    "The Complete-Link algorithm is similar to the Single-Link, with the difference being the distance measurement, i.e. instead of using the two closest points, it uses the two farthest. The clustering end up begin more compact than the Single-Link.\n",
    "\n",
    "## Average-Link\n",
    "\n",
    "The difference between Average-Link and Single-Link (and Complete-Link) is that it uses the average of all distance of points between the clusters.\n",
    "\n",
    "## Ward's Method\n",
    "\n",
    "This method uses the middle points inside the clusters and between the clusters to calculate distance:\n",
    "\n",
    "<br><img src=\"images/wards-method.png\" width=\"720px\">"
   ]
  }
 ],
 "metadata": {
  "kernelspec": {
   "display_name": "Python 3",
   "language": "python",
   "name": "python3"
  },
  "language_info": {
   "codemirror_mode": {
    "name": "ipython",
    "version": 3
   },
   "file_extension": ".py",
   "mimetype": "text/x-python",
   "name": "python",
   "nbconvert_exporter": "python",
   "pygments_lexer": "ipython3",
   "version": "3.8.5"
  }
 },
 "nbformat": 4,
 "nbformat_minor": 4
}
