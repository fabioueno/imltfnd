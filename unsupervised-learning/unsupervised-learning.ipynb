{
 "cells": [
  {
   "cell_type": "markdown",
   "metadata": {},
   "source": [
    "# Unsupervised Learning\n",
    "\n",
    "<br><img src=\"images/unsupervised-learning.png\" width=\"720px\"><br>\n",
    "\n",
    "> Unsupervised Learning created models for data when there are no preexisting labels to train on. -- Josh Bernhard\n",
    "\n",
    "The applications for Unsupervised Learning are pretty vast:\n",
    "\n",
    "* Reduce a dataset to fewer number of useful features.\n",
    "* Group similar items.\n",
    "* Build music recommendation system.\n",
    "\n",
    "There are two types of Unsupervised Learning:\n",
    "\n",
    "* [Clustering](algorithms/clustering/clustering.ipynb): Used to group data together.\n",
    "* [Dimensionality  Reduction](algorithms/dimensionality-reduction/dimensionality-reduction.ipynb): Condense a large number of features into a smaller set of features."
   ]
  }
 ],
 "metadata": {
  "kernelspec": {
   "display_name": "Python 3",
   "language": "python",
   "name": "python3"
  },
  "language_info": {
   "codemirror_mode": {
    "name": "ipython",
    "version": 3
   },
   "file_extension": ".py",
   "mimetype": "text/x-python",
   "name": "python",
   "nbconvert_exporter": "python",
   "pygments_lexer": "ipython3",
   "version": "3.8.5"
  }
 },
 "nbformat": 4,
 "nbformat_minor": 4
}
